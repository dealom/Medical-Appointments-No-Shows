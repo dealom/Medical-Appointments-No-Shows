{
 "cells": [
  {
   "cell_type": "code",
   "execution_count": 3,
   "metadata": {},
   "outputs": [],
   "source": [
    "import numpy as np\n",
    "import pandas as pd\n",
    "import matplotlib.pyplot as plt\n",
    "import seaborn as sns\n",
    "from scipy import stats"
   ]
  },
  {
   "cell_type": "code",
   "execution_count": 4,
   "metadata": {},
   "outputs": [
    {
     "data": {
      "text/html": [
       "<div>\n",
       "<style scoped>\n",
       "    .dataframe tbody tr th:only-of-type {\n",
       "        vertical-align: middle;\n",
       "    }\n",
       "\n",
       "    .dataframe tbody tr th {\n",
       "        vertical-align: top;\n",
       "    }\n",
       "\n",
       "    .dataframe thead th {\n",
       "        text-align: right;\n",
       "    }\n",
       "</style>\n",
       "<table border=\"1\" class=\"dataframe\">\n",
       "  <thead>\n",
       "    <tr style=\"text-align: right;\">\n",
       "      <th></th>\n",
       "      <th>specialty</th>\n",
       "      <th>appointment_time</th>\n",
       "      <th>gender</th>\n",
       "      <th>appointment_date</th>\n",
       "      <th>no_show</th>\n",
       "      <th>no_show_reason</th>\n",
       "      <th>disability</th>\n",
       "      <th>date_of_birth</th>\n",
       "      <th>entry_service_date</th>\n",
       "      <th>city</th>\n",
       "      <th>...</th>\n",
       "      <th>over_60_years_old</th>\n",
       "      <th>patient_needs_companion</th>\n",
       "      <th>average_temp_day</th>\n",
       "      <th>average_rain_day</th>\n",
       "      <th>max_temp_day</th>\n",
       "      <th>max_rain_day</th>\n",
       "      <th>rainy_day_before</th>\n",
       "      <th>storm_day_before</th>\n",
       "      <th>rain_intensity</th>\n",
       "      <th>heat_intensity</th>\n",
       "    </tr>\n",
       "  </thead>\n",
       "  <tbody>\n",
       "    <tr>\n",
       "      <th>0</th>\n",
       "      <td>physiotherapy</td>\n",
       "      <td>13:20</td>\n",
       "      <td>M</td>\n",
       "      <td>09/09/2021</td>\n",
       "      <td>yes</td>\n",
       "      <td>surto</td>\n",
       "      <td>NaN</td>\n",
       "      <td>NaN</td>\n",
       "      <td>NaN</td>\n",
       "      <td>NaN</td>\n",
       "      <td>...</td>\n",
       "      <td>0</td>\n",
       "      <td>0</td>\n",
       "      <td>20.75</td>\n",
       "      <td>0.01</td>\n",
       "      <td>23.7</td>\n",
       "      <td>0.2</td>\n",
       "      <td>1</td>\n",
       "      <td>1</td>\n",
       "      <td>no_rain</td>\n",
       "      <td>mild</td>\n",
       "    </tr>\n",
       "    <tr>\n",
       "      <th>1</th>\n",
       "      <td>psychotherapy</td>\n",
       "      <td>13:20</td>\n",
       "      <td>M</td>\n",
       "      <td>09/09/2021</td>\n",
       "      <td>no</td>\n",
       "      <td>NaN</td>\n",
       "      <td>NaN</td>\n",
       "      <td>NaN</td>\n",
       "      <td>NaN</td>\n",
       "      <td>NaN</td>\n",
       "      <td>...</td>\n",
       "      <td>0</td>\n",
       "      <td>0</td>\n",
       "      <td>20.75</td>\n",
       "      <td>0.01</td>\n",
       "      <td>23.7</td>\n",
       "      <td>0.2</td>\n",
       "      <td>1</td>\n",
       "      <td>1</td>\n",
       "      <td>no_rain</td>\n",
       "      <td>mild</td>\n",
       "    </tr>\n",
       "    <tr>\n",
       "      <th>2</th>\n",
       "      <td>speech therapy</td>\n",
       "      <td>13:20</td>\n",
       "      <td>F</td>\n",
       "      <td>09/09/2021</td>\n",
       "      <td>no</td>\n",
       "      <td>NaN</td>\n",
       "      <td>NaN</td>\n",
       "      <td>NaN</td>\n",
       "      <td>NaN</td>\n",
       "      <td>NaN</td>\n",
       "      <td>...</td>\n",
       "      <td>0</td>\n",
       "      <td>0</td>\n",
       "      <td>20.75</td>\n",
       "      <td>0.01</td>\n",
       "      <td>23.7</td>\n",
       "      <td>0.2</td>\n",
       "      <td>1</td>\n",
       "      <td>1</td>\n",
       "      <td>no_rain</td>\n",
       "      <td>mild</td>\n",
       "    </tr>\n",
       "    <tr>\n",
       "      <th>3</th>\n",
       "      <td>physiotherapy</td>\n",
       "      <td>13:20</td>\n",
       "      <td>F</td>\n",
       "      <td>09/09/2021</td>\n",
       "      <td>no</td>\n",
       "      <td>NaN</td>\n",
       "      <td>NaN</td>\n",
       "      <td>NaN</td>\n",
       "      <td>NaN</td>\n",
       "      <td>NaN</td>\n",
       "      <td>...</td>\n",
       "      <td>0</td>\n",
       "      <td>0</td>\n",
       "      <td>20.75</td>\n",
       "      <td>0.01</td>\n",
       "      <td>23.7</td>\n",
       "      <td>0.2</td>\n",
       "      <td>1</td>\n",
       "      <td>1</td>\n",
       "      <td>no_rain</td>\n",
       "      <td>mild</td>\n",
       "    </tr>\n",
       "    <tr>\n",
       "      <th>4</th>\n",
       "      <td>physiotherapy</td>\n",
       "      <td>14:00</td>\n",
       "      <td>M</td>\n",
       "      <td>09/09/2021</td>\n",
       "      <td>no</td>\n",
       "      <td>NaN</td>\n",
       "      <td>motor</td>\n",
       "      <td>10/10/1954</td>\n",
       "      <td>5/2/2020</td>\n",
       "      <td>B. CAMBORIU</td>\n",
       "      <td>...</td>\n",
       "      <td>1</td>\n",
       "      <td>1</td>\n",
       "      <td>20.75</td>\n",
       "      <td>0.01</td>\n",
       "      <td>23.7</td>\n",
       "      <td>0.2</td>\n",
       "      <td>1</td>\n",
       "      <td>1</td>\n",
       "      <td>no_rain</td>\n",
       "      <td>mild</td>\n",
       "    </tr>\n",
       "  </tbody>\n",
       "</table>\n",
       "<p>5 rows × 26 columns</p>\n",
       "</div>"
      ],
      "text/plain": [
       "        specialty appointment_time gender appointment_date no_show  \\\n",
       "0   physiotherapy            13:20      M       09/09/2021     yes   \n",
       "1   psychotherapy            13:20      M       09/09/2021      no   \n",
       "2  speech therapy            13:20      F       09/09/2021      no   \n",
       "3   physiotherapy            13:20      F       09/09/2021      no   \n",
       "4   physiotherapy            14:00      M       09/09/2021      no   \n",
       "\n",
       "  no_show_reason disability date_of_birth entry_service_date         city  \\\n",
       "0          surto        NaN           NaN                NaN          NaN   \n",
       "1            NaN        NaN           NaN                NaN          NaN   \n",
       "2            NaN        NaN           NaN                NaN          NaN   \n",
       "3            NaN        NaN           NaN                NaN          NaN   \n",
       "4            NaN      motor    10/10/1954           5/2/2020  B. CAMBORIU   \n",
       "\n",
       "   ... over_60_years_old patient_needs_companion  average_temp_day  \\\n",
       "0  ...                 0                       0             20.75   \n",
       "1  ...                 0                       0             20.75   \n",
       "2  ...                 0                       0             20.75   \n",
       "3  ...                 0                       0             20.75   \n",
       "4  ...                 1                       1             20.75   \n",
       "\n",
       "  average_rain_day  max_temp_day  max_rain_day  rainy_day_before  \\\n",
       "0             0.01          23.7           0.2                 1   \n",
       "1             0.01          23.7           0.2                 1   \n",
       "2             0.01          23.7           0.2                 1   \n",
       "3             0.01          23.7           0.2                 1   \n",
       "4             0.01          23.7           0.2                 1   \n",
       "\n",
       "   storm_day_before  rain_intensity  heat_intensity  \n",
       "0                 1         no_rain            mild  \n",
       "1                 1         no_rain            mild  \n",
       "2                 1         no_rain            mild  \n",
       "3                 1         no_rain            mild  \n",
       "4                 1         no_rain            mild  \n",
       "\n",
       "[5 rows x 26 columns]"
      ]
     },
     "execution_count": 4,
     "metadata": {},
     "output_type": "execute_result"
    }
   ],
   "source": [
    "path = 'medical-appointments-no-show-en.csv'\n",
    "dt = pd.read_csv(path)\n",
    "dt.head()"
   ]
  },
  {
   "cell_type": "code",
   "execution_count": 5,
   "metadata": {},
   "outputs": [
    {
     "data": {
      "text/plain": [
       "specialty                  0.150303\n",
       "appointment_time           0.000000\n",
       "gender                     0.000000\n",
       "appointment_date           0.000000\n",
       "no_show                    0.000000\n",
       "no_show_reason             0.964975\n",
       "disability                 0.103583\n",
       "date_of_birth              0.208114\n",
       "entry_service_date         0.103946\n",
       "city                       0.104470\n",
       "icd                        0.783901\n",
       "appointment_month          0.000000\n",
       "appointment_year           0.000000\n",
       "appointment_shift          0.000000\n",
       "age                        0.208699\n",
       "under_12_years_old         0.000000\n",
       "over_60_years_old          0.000000\n",
       "patient_needs_companion    0.000000\n",
       "average_temp_day           0.020487\n",
       "average_rain_day           0.020487\n",
       "max_temp_day               0.020487\n",
       "max_rain_day               0.020487\n",
       "rainy_day_before           0.000000\n",
       "storm_day_before           0.000000\n",
       "rain_intensity             0.000000\n",
       "heat_intensity             0.000000\n",
       "dtype: float64"
      ]
     },
     "execution_count": 5,
     "metadata": {},
     "output_type": "execute_result"
    }
   ],
   "source": [
    "dt.isna().mean()"
   ]
  },
  {
   "cell_type": "code",
   "execution_count": 6,
   "metadata": {},
   "outputs": [],
   "source": [
    "noshowdt = dt[dt['no_show'] == 'yes']\n",
    "yesshowdt = dt[dt['no_show'] == 'no']"
   ]
  },
  {
   "cell_type": "code",
   "execution_count": 7,
   "metadata": {},
   "outputs": [
    {
     "name": "stdout",
     "output_type": "stream",
     "text": [
      "19.424441900400687 20.45012753488039\n",
      "18.43419396346751 19.11011070140335\n"
     ]
    }
   ],
   "source": [
    "print(noshowdt['age'].mean(),noshowdt['age'].std())\n",
    "print(yesshowdt['age'].mean(),yesshowdt['age'].std())\n",
    "# no significant difference"
   ]
  },
  {
   "cell_type": "code",
   "execution_count": 8,
   "metadata": {},
   "outputs": [
    {
     "name": "stdout",
     "output_type": "stream",
     "text": [
      "0.7433774834437086\n",
      "0.7593887536024664\n"
     ]
    }
   ],
   "source": [
    "print(noshowdt['gender'].value_counts(normalize=True)['M'])\n",
    "print(yesshowdt['gender'].value_counts(normalize=True)['M'])\n",
    "# no significant difference"
   ]
  },
  {
   "cell_type": "code",
   "execution_count": 9,
   "metadata": {},
   "outputs": [
    {
     "name": "stdout",
     "output_type": "stream",
     "text": [
      "specialty\n",
      "speech therapy          0.285169\n",
      "psychotherapy           0.277538\n",
      "physiotherapy           0.239379\n",
      "occupational therapy    0.141185\n",
      "pedagogo                0.039176\n",
      "enf                     0.010939\n",
      "sem especialidade       0.003307\n",
      "assist                  0.003307\n",
      "Name: proportion, dtype: float64\n",
      "specialty\n",
      "speech therapy          0.281512\n",
      "psychotherapy           0.277010\n",
      "physiotherapy           0.212861\n",
      "occupational therapy    0.155229\n",
      "pedagogo                0.049990\n",
      "enf                     0.017509\n",
      "assist                  0.004737\n",
      "sem especialidade       0.001152\n",
      "Name: proportion, dtype: float64\n"
     ]
    }
   ],
   "source": [
    "print(noshowdt['specialty'].value_counts(normalize=True))\n",
    "print(yesshowdt['specialty'].value_counts(normalize=True))\n",
    "# no significant difference"
   ]
  },
  {
   "cell_type": "code",
   "execution_count": 38,
   "metadata": {},
   "outputs": [
    {
     "name": "stdout",
     "output_type": "stream",
     "text": [
      "19.943690527218177\n",
      "19.72755664867573\n"
     ]
    }
   ],
   "source": [
    "print(noshowdt['average_temp_day'].mean())\n",
    "print(yesshowdt['average_temp_day'].mean())"
   ]
  },
  {
   "cell_type": "code",
   "execution_count": 39,
   "metadata": {},
   "outputs": [
    {
     "name": "stdout",
     "output_type": "stream",
     "text": [
      "0.21857908272610374\n",
      "0.18709503313520529\n"
     ]
    }
   ],
   "source": [
    "print(noshowdt['average_rain_day'].mean())\n",
    "print(yesshowdt['average_rain_day'].mean())"
   ]
  },
  {
   "cell_type": "code",
   "execution_count": 40,
   "metadata": {},
   "outputs": [
    {
     "name": "stdout",
     "output_type": "stream",
     "text": [
      "23.998028289755677\n",
      "23.958153993304638\n",
      "\n",
      "2.0993999142734676\n",
      "1.8740406731798411\n"
     ]
    }
   ],
   "source": [
    "print(noshowdt['max_temp_day'].mean())\n",
    "print(yesshowdt['max_temp_day'].mean())\n",
    "print()\n",
    "print(noshowdt['max_rain_day'].mean())\n",
    "print(yesshowdt['max_rain_day'].mean())"
   ]
  },
  {
   "cell_type": "code",
   "execution_count": 43,
   "metadata": {},
   "outputs": [
    {
     "name": "stdout",
     "output_type": "stream",
     "text": [
      "rain_intensity\n",
      "no_rain     0.713044\n",
      "moderate    0.140846\n",
      "weak        0.096828\n",
      "heavy       0.049281\n",
      "Name: proportion, dtype: float64\n"
     ]
    }
   ],
   "source": [
    "print(dt['rain_intensity'].value_counts(normalize=True))"
   ]
  },
  {
   "cell_type": "code",
   "execution_count": 42,
   "metadata": {},
   "outputs": [
    {
     "name": "stdout",
     "output_type": "stream",
     "text": [
      "rain_intensity\n",
      "no_rain     0.699503\n",
      "moderate    0.149627\n",
      "weak        0.097889\n",
      "heavy       0.052980\n",
      "Name: proportion, dtype: float64\n",
      "rain_intensity\n",
      "no_rain     0.714506\n",
      "moderate    0.139899\n",
      "weak        0.096714\n",
      "heavy       0.048882\n",
      "Name: proportion, dtype: float64\n"
     ]
    }
   ],
   "source": [
    "print(noshowdt['rain_intensity'].value_counts(normalize=True))\n",
    "print(yesshowdt['rain_intensity'].value_counts(normalize=True))"
   ]
  },
  {
   "cell_type": "code",
   "execution_count": null,
   "metadata": {},
   "outputs": [
    {
     "name": "stdout",
     "output_type": "stream",
     "text": [
      "heat_intensity\n",
      "mild          0.409354\n",
      "cold          0.308775\n",
      "warm          0.225786\n",
      "heavy_cold    0.044081\n",
      "heavy_warm    0.012003\n",
      "Name: proportion, dtype: float64\n",
      "heat_intensity\n",
      "mild          0.478877\n",
      "cold          0.285986\n",
      "warm          0.196577\n",
      "heavy_cold    0.028440\n",
      "heavy_warm    0.010120\n",
      "Name: proportion, dtype: float64\n"
     ]
    }
   ],
   "source": [
    "print(noshowdt['heat_intensity'].value_counts(normalize=True))\n",
    "print(yesshowdt['heat_intensity'].value_counts(normalize=True))\n",
    "# BIG DIFFERENCE"
   ]
  },
  {
   "cell_type": "code",
   "execution_count": 46,
   "metadata": {},
   "outputs": [
    {
     "name": "stdout",
     "output_type": "stream",
     "text": [
      "no_show\n",
      "no     0.915517\n",
      "yes    0.084483\n",
      "Name: proportion, dtype: float64\n",
      "no_show\n",
      "no     0.895613\n",
      "yes    0.104387\n",
      "Name: proportion, dtype: float64\n",
      "no_show\n",
      "no     0.889687\n",
      "yes    0.110313\n",
      "Name: proportion, dtype: float64\n",
      "no_show\n",
      "no     0.856662\n",
      "yes    0.143338\n",
      "Name: proportion, dtype: float64\n",
      "no_show\n",
      "no     0.886497\n",
      "yes    0.113503\n",
      "Name: proportion, dtype: float64\n"
     ]
    }
   ],
   "source": [
    "print(dt[dt['heat_intensity'] == 'mild']['no_show'].value_counts(normalize=True))\n",
    "print(dt[dt['heat_intensity'] == 'cold']['no_show'].value_counts(normalize=True))\n",
    "print(dt[dt['heat_intensity'] == 'warm']['no_show'].value_counts(normalize=True))\n",
    "print(dt[dt['heat_intensity'] == 'heavy_cold']['no_show'].value_counts(normalize=True))\n",
    "print(dt[dt['heat_intensity'] == 'heavy_warm']['no_show'].value_counts(normalize=True))"
   ]
  },
  {
   "cell_type": "code",
   "execution_count": null,
   "metadata": {},
   "outputs": [
    {
     "name": "stdout",
     "output_type": "stream",
     "text": [
      "appointment_time\n",
      "14:40    0.081747\n",
      "14:00    0.054636\n",
      "16:20    0.051325\n",
      "13:20    0.044909\n",
      "15:20    0.043874\n",
      "           ...   \n",
      "11:30    0.000207\n",
      "16:40    0.000207\n",
      "12:10    0.000207\n",
      "17:36    0.000207\n",
      "15:15    0.000207\n",
      "Name: proportion, Length: 62, dtype: float64\n",
      "appointment_time\n",
      "14:40    0.083443\n",
      "09:10    0.062599\n",
      "13:50    0.053797\n",
      "15:30    0.050111\n",
      "08:20    0.047318\n",
      "           ...   \n",
      "08:10    0.000022\n",
      "13:05    0.000022\n",
      "16:36    0.000022\n",
      "16:50    0.000022\n",
      "09:03    0.000022\n",
      "Name: proportion, Length: 72, dtype: float64\n"
     ]
    }
   ],
   "source": [
    "print(noshowdt['appointment_time'].value_counts(normalize=True))\n",
    "print(yesshowdt['appointment_time'].value_counts(normalize=True))\n",
    "# change this"
   ]
  },
  {
   "cell_type": "code",
   "execution_count": 11,
   "metadata": {},
   "outputs": [
    {
     "name": "stdout",
     "output_type": "stream",
     "text": [
      "appointment_date\n",
      "13/04/2018    0.012417\n",
      "29/05/2017    0.010555\n",
      "25/06/2021    0.009106\n",
      "24/06/2021    0.008899\n",
      "17/04/2017    0.007450\n",
      "                ...   \n",
      "04/04/2018    0.000207\n",
      "04/04/2019    0.000207\n",
      "02/05/2018    0.000207\n",
      "02/05/2017    0.000207\n",
      "23/08/2018    0.000207\n",
      "Name: proportion, Length: 823, dtype: float64\n",
      "appointment_date\n",
      "17/04/2017    0.005161\n",
      "15/03/2017    0.004178\n",
      "12/04/2017    0.003508\n",
      "22/07/2016    0.003195\n",
      "30/10/2018    0.003150\n",
      "                ...   \n",
      "28/11/2017    0.000067\n",
      "08/12/2017    0.000022\n",
      "18/09/2016    0.000022\n",
      "17/09/2016    0.000022\n",
      "04/06/2021    0.000022\n",
      "Name: proportion, Length: 988, dtype: float64\n"
     ]
    }
   ],
   "source": [
    "print(noshowdt['appointment_date'].value_counts(normalize=True))\n",
    "print(yesshowdt['appointment_date'].value_counts(normalize=True))"
   ]
  },
  {
   "cell_type": "code",
   "execution_count": 19,
   "metadata": {},
   "outputs": [
    {
     "name": "stdout",
     "output_type": "stream",
     "text": [
      "disability\n",
      "intellectual    2742\n",
      "motor           1308\n",
      "                   4\n",
      "Name: count, dtype: int64\n"
     ]
    }
   ],
   "source": [
    "print(noshowdt['disability'].value_counts(normalize=False))"
   ]
  },
  {
   "cell_type": "code",
   "execution_count": 18,
   "metadata": {},
   "outputs": [
    {
     "name": "stdout",
     "output_type": "stream",
     "text": [
      "disability\n",
      "intellectual    28140\n",
      "motor           12257\n",
      "                    5\n",
      "Name: count, dtype: int64\n"
     ]
    }
   ],
   "source": [
    "print(yesshowdt['disability'].value_counts(normalize=False))"
   ]
  },
  {
   "cell_type": "code",
   "execution_count": 17,
   "metadata": {},
   "outputs": [
    {
     "data": {
      "text/plain": [
       "specialty                  0.146400\n",
       "appointment_time           0.000000\n",
       "gender                     0.000000\n",
       "appointment_date           0.000000\n",
       "no_show                    0.000000\n",
       "no_show_reason             0.998660\n",
       "disability                 0.097384\n",
       "date_of_birth              0.200844\n",
       "entry_service_date         0.097674\n",
       "city                       0.098233\n",
       "icd                        0.791560\n",
       "appointment_month          0.000000\n",
       "appointment_year           0.000000\n",
       "appointment_shift          0.000000\n",
       "age                        0.201336\n",
       "under_12_years_old         0.000000\n",
       "over_60_years_old          0.000000\n",
       "patient_needs_companion    0.000000\n",
       "average_temp_day           0.018990\n",
       "average_rain_day           0.018990\n",
       "max_temp_day               0.018990\n",
       "max_rain_day               0.018990\n",
       "rainy_day_before           0.000000\n",
       "storm_day_before           0.000000\n",
       "rain_intensity             0.000000\n",
       "heat_intensity             0.000000\n",
       "dtype: float64"
      ]
     },
     "execution_count": 17,
     "metadata": {},
     "output_type": "execute_result"
    }
   ],
   "source": [
    "yesshowdt.isna().mean()"
   ]
  },
  {
   "cell_type": "code",
   "execution_count": null,
   "metadata": {},
   "outputs": [
    {
     "name": "stdout",
     "output_type": "stream",
     "text": [
      "city\n",
      "ITAJAÍ            0.449852\n",
      "B. CAMBORIU       0.136611\n",
      "CAMBORIU          0.101532\n",
      "NAVEGANTES        0.101285\n",
      "ITAPEMA           0.063735\n",
      "BOMBINHAS         0.049407\n",
      "PORTO BELO        0.027421\n",
      "ILHOTA            0.019022\n",
      "LUIZ ALVES        0.017540\n",
      "PENHA             0.015810\n",
      "BALN. PIÇARRAS    0.015563\n",
      "MONTENEGRO        0.001482\n",
      "BLUMENAU          0.000741\n",
      "Name: proportion, dtype: float64\n",
      "city\n",
      "ITAJAÍ            0.463135\n",
      "B. CAMBORIU       0.135393\n",
      "CAMBORIU          0.126648\n",
      "NAVEGANTES        0.086488\n",
      "ITAPEMA           0.059632\n",
      "BOMBINHAS         0.037335\n",
      "PENHA             0.024155\n",
      "BALN. PIÇARRAS    0.021851\n",
      "PORTO BELO        0.020786\n",
      "ILHOTA            0.012536\n",
      "LUIZ ALVES        0.011198\n",
      "MONTENEGRO        0.000520\n",
      "BLUMENAU          0.000322\n",
      "Name: proportion, dtype: float64\n"
     ]
    }
   ],
   "source": [
    "print(noshowdt['city'].value_counts(normalize=True))\n",
    "print(yesshowdt['city'].value_counts(normalize=True))\n",
    "# nothing stands out"
   ]
  },
  {
   "cell_type": "code",
   "execution_count": 22,
   "metadata": {},
   "outputs": [
    {
     "name": "stdout",
     "output_type": "stream",
     "text": [
      "appointment_month\n",
      "june     0.136382\n",
      "oct      0.111755\n",
      "feb      0.098303\n",
      "aug      0.090439\n",
      "april    0.088162\n",
      "sept     0.085265\n",
      "may      0.082781\n",
      "nov      0.081747\n",
      "mar      0.074917\n",
      "july     0.074296\n",
      "dec      0.042632\n",
      "jan      0.033320\n",
      "Name: proportion, dtype: float64\n",
      "appointment_month\n",
      "oct      0.128281\n",
      "aug      0.124751\n",
      "july     0.105739\n",
      "june     0.096959\n",
      "sept     0.095172\n",
      "mar      0.080852\n",
      "nov      0.079020\n",
      "april    0.078819\n",
      "may      0.073948\n",
      "feb      0.073099\n",
      "dec      0.038002\n",
      "jan      0.025357\n",
      "Name: proportion, dtype: float64\n"
     ]
    }
   ],
   "source": [
    "print(noshowdt['appointment_month'].value_counts(normalize=True))\n",
    "print(yesshowdt['appointment_month'].value_counts(normalize=True))"
   ]
  },
  {
   "cell_type": "code",
   "execution_count": 28,
   "metadata": {},
   "outputs": [
    {
     "data": {
      "text/plain": [
       "no_show\n",
       "no     0.902567\n",
       "yes    0.097433\n",
       "Name: proportion, dtype: float64"
      ]
     },
     "execution_count": 28,
     "metadata": {},
     "output_type": "execute_result"
    }
   ],
   "source": [
    "dt['no_show'].value_counts(normalize=True)"
   ]
  },
  {
   "cell_type": "code",
   "execution_count": 32,
   "metadata": {},
   "outputs": [
    {
     "data": {
      "text/plain": [
       "appointment_month\n",
       "oct      0.126671\n",
       "aug      0.121408\n",
       "july     0.102676\n",
       "june     0.100801\n",
       "sept     0.094207\n",
       "mar      0.080273\n",
       "april    0.079729\n",
       "nov      0.079285\n",
       "feb      0.075555\n",
       "may      0.074809\n",
       "dec      0.038453\n",
       "jan      0.026133\n",
       "Name: proportion, dtype: float64"
      ]
     },
     "execution_count": 32,
     "metadata": {},
     "output_type": "execute_result"
    }
   ],
   "source": [
    "dt['appointment_month'].value_counts(normalize=True)"
   ]
  },
  {
   "cell_type": "code",
   "execution_count": 33,
   "metadata": {},
   "outputs": [
    {
     "data": {
      "text/plain": [
       "appointment_year\n",
       "2017    0.253342\n",
       "2018    0.193697\n",
       "2021    0.181639\n",
       "2019    0.173089\n",
       "2016    0.161011\n",
       "2022    0.018995\n",
       "2020    0.018228\n",
       "Name: proportion, dtype: float64"
      ]
     },
     "execution_count": 33,
     "metadata": {},
     "output_type": "execute_result"
    }
   ],
   "source": [
    "dt['appointment_year'].value_counts(normalize=True)"
   ]
  },
  {
   "cell_type": "code",
   "execution_count": null,
   "metadata": {},
   "outputs": [
    {
     "name": "stdout",
     "output_type": "stream",
     "text": [
      "no_show\n",
      "no     0.96005\n",
      "yes    0.03995\n",
      "Name: proportion, dtype: float64\n",
      "no_show\n",
      "no     0.917383\n",
      "yes    0.082617\n",
      "Name: proportion, dtype: float64\n",
      "no_show\n",
      "no     0.919842\n",
      "yes    0.080158\n",
      "Name: proportion, dtype: float64\n",
      "no_show\n",
      "no     0.87698\n",
      "yes    0.12302\n",
      "Name: proportion, dtype: float64\n",
      "no_show\n",
      "no     0.860619\n",
      "yes    0.139381\n",
      "Name: proportion, dtype: float64\n",
      "no_show\n",
      "no     0.848912\n",
      "yes    0.151088\n",
      "Name: proportion, dtype: float64\n",
      "no_show\n",
      "no     0.828025\n",
      "yes    0.171975\n",
      "Name: proportion, dtype: float64\n"
     ]
    }
   ],
   "source": [
    "print(dt[dt['appointment_year'] == 2016]['no_show'].value_counts(normalize=True))\n",
    "print(dt[dt['appointment_year'] == 2017]['no_show'].value_counts(normalize=True))\n",
    "print(dt[dt['appointment_year'] == 2018]['no_show'].value_counts(normalize=True))\n",
    "print(dt[dt['appointment_year'] == 2019]['no_show'].value_counts(normalize=True))\n",
    "print(dt[dt['appointment_year'] == 2020]['no_show'].value_counts(normalize=True))\n",
    "print(dt[dt['appointment_year'] == 2021]['no_show'].value_counts(normalize=True))\n",
    "print(dt[dt['appointment_year'] == 2022]['no_show'].value_counts(normalize=True))\n",
    "# post covid years are lower\n"
   ]
  },
  {
   "cell_type": "code",
   "execution_count": 30,
   "metadata": {},
   "outputs": [
    {
     "name": "stdout",
     "output_type": "stream",
     "text": [
      "no_show\n",
      "no     0.875772\n",
      "yes    0.124228\n",
      "Name: proportion, dtype: float64\n",
      "no_show\n",
      "no     0.873232\n",
      "yes    0.126768\n",
      "Name: proportion, dtype: float64\n",
      "no_show\n",
      "no     0.909068\n",
      "yes    0.090932\n",
      "Name: proportion, dtype: float64\n",
      "no_show\n",
      "no     0.892261\n",
      "yes    0.107739\n",
      "Name: proportion, dtype: float64\n",
      "no_show\n",
      "no     0.892183\n",
      "yes    0.107817\n",
      "Name: proportion, dtype: float64\n",
      "no_show\n",
      "no     0.868174\n",
      "yes    0.131826\n",
      "Name: proportion, dtype: float64\n",
      "no_show\n",
      "no     0.929497\n",
      "yes    0.070503\n",
      "Name: proportion, dtype: float64\n",
      "no_show\n",
      "no     0.927421\n",
      "yes    0.072579\n",
      "Name: proportion, dtype: float64\n",
      "no_show\n",
      "no     0.911815\n",
      "yes    0.088185\n",
      "Name: proportion, dtype: float64\n",
      "no_show\n",
      "no     0.91404\n",
      "yes    0.08596\n",
      "Name: proportion, dtype: float64\n",
      "no_show\n",
      "no     0.899542\n",
      "yes    0.100458\n",
      "Name: proportion, dtype: float64\n",
      "no_show\n",
      "no     0.891977\n",
      "yes    0.108023\n",
      "Name: proportion, dtype: float64\n"
     ]
    }
   ],
   "source": [
    "print(dt[dt['appointment_month'] == 'jan']['no_show'].value_counts(normalize=True))\n",
    "print(dt[dt['appointment_month'] == 'feb']['no_show'].value_counts(normalize=True))\n",
    "print(dt[dt['appointment_month'] == 'mar']['no_show'].value_counts(normalize=True))\n",
    "print(dt[dt['appointment_month'] == 'april']['no_show'].value_counts(normalize=True))\n",
    "print(dt[dt['appointment_month'] == 'may']['no_show'].value_counts(normalize=True))\n",
    "print(dt[dt['appointment_month'] == 'june']['no_show'].value_counts(normalize=True))\n",
    "print(dt[dt['appointment_month'] == 'july']['no_show'].value_counts(normalize=True))\n",
    "print(dt[dt['appointment_month'] == 'aug']['no_show'].value_counts(normalize=True))\n",
    "print(dt[dt['appointment_month'] == 'sept']['no_show'].value_counts(normalize=True))\n",
    "print(dt[dt['appointment_month'] == 'oct']['no_show'].value_counts(normalize=True))\n",
    "print(dt[dt['appointment_month'] == 'nov']['no_show'].value_counts(normalize=True))\n",
    "print(dt[dt['appointment_month'] == 'dec']['no_show'].value_counts(normalize=True))"
   ]
  },
  {
   "cell_type": "code",
   "execution_count": null,
   "metadata": {},
   "outputs": [
    {
     "data": {
      "image/png": "[encoded data removed]",
      "text/plain": [
       "<Figure size 1000x600 with 1 Axes>"
      ]
     },
     "metadata": {},
     "output_type": "display_data"
    }
   ],
   "source": [
    "values = [87.5, 87.3, 90.9, 89.2, 89.2, 86.8, 92.4, 92.7, 91.1, 91.4, 89.9, 89.1]\n",
    "# June is the lowest\n",
    "\n",
    "# Generate labels for each bar (e.g., months, categories)\n",
    "labels = [f\"Label {i+1}\" for i in range(len(values))]  # Modify labels as needed\n",
    "\n",
    "# Create the bar plot\n",
    "plt.figure(figsize=(10, 6))\n",
    "plt.bar(labels, values, color='skyblue')\n",
    "plt.xlabel(\"Categories\")\n",
    "plt.ylabel(\"Values\")\n",
    "plt.title(\"Bar Graph of Given Values\")\n",
    "plt.xticks(rotation=45)  # Rotate labels if needed for readability\n",
    "plt.show()"
   ]
  }
 ],
 "metadata": {
  "kernelspec": {
   "display_name": "Python 3",
   "language": "python",
   "name": "python3"
  },
  "language_info": {
   "codemirror_mode": {
    "name": "ipython",
    "version": 3
   },
   "file_extension": ".py",
   "mimetype": "text/x-python",
   "name": "python",
   "nbconvert_exporter": "python",
   "pygments_lexer": "ipython3",
   "version": "3.10.6"
  }
 },
 "nbformat": 4,
 "nbformat_minor": 2
}
